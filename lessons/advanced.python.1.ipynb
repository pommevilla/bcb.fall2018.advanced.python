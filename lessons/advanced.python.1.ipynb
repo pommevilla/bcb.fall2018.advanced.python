{
 "cells": [
  {
   "cell_type": "markdown",
   "metadata": {},
   "source": [
    "# BCBGSO Fall 2018 Advanced Python Workshop\n",
    "\n",
    "## Section 1: Introduction\n",
    "\n",
    "Welcome to the *Advanced Python* portion of the Fall 2018 Basic Python Workshops hosted by the [Bioinformatics and Computational Biology Graduate Student Organization (BCBGSO)](https://www.stuorg.iastate.edu/site/bcbgso).  This is the third in a three-part workshop series.  You can find the other two parts here:\n",
    "\n",
    "* [Basic Python](https://github.com/pommevilla/bcb.fall2018.basic.python)\n",
    "* [Intermediate Python](https://github.com/urmi-21/python3-dataScience18)\n",
    "\n",
    "These workshops are intended to give someone with no prior programming knowledge some hands-on problem solving experience.  \n",
    "\n",
    "In this workshop, we wil\n",
    "\n",
    "\n",
    "## Section 1.1: About This Workshop\n",
    "\n",
    "There are 5 parts to this workshop:\n",
    "\n",
    "* [Introduction](advanced.python.1.ipynb)\n",
    "* [Jupyter Notebook](advanced.python.2.ipynb)\n",
    "* [scikit-learn](advanced.python.3.ipynb)\n",
    "\n",
    "\n",
    "[Next Section: Jupyter Notebooks](advanced.python.2.ipynb)"
   ]
  }
 ],
 "metadata": {
  "kernelspec": {
   "display_name": "Python 3",
   "language": "python",
   "name": "python3"
  },
  "language_info": {
   "codemirror_mode": {
    "name": "ipython",
    "version": 3
   },
   "file_extension": ".py",
   "mimetype": "text/x-python",
   "name": "python",
   "nbconvert_exporter": "python",
   "pygments_lexer": "ipython3",
   "version": "3.6.5"
  }
 },
 "nbformat": 4,
 "nbformat_minor": 2
}
