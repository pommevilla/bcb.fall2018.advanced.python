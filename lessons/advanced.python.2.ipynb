{
 "cells": [
  {
   "cell_type": "markdown",
   "metadata": {},
   "source": [
    "# BCBGSO Fall 2018 Advanced Python Workshop\n",
    "\n",
    "## Section 2: Jupyter Notebook\n",
    "\n",
    "Jupyter Notebooks are documents combining computer code and rich text.  This allows you to combine human-readable prose with your code so that you can communicate what your program is doing along with its outputs.  A common example of where Jupyter Notebooks are used are in sharing your research.  When sharing research with your PI or collaborator, you might send them a `.py` file for them to run themselves along with some  email/`.txt` file.  However, they might not know how to run the code, or the `.txt` might be separated, or you might be constantly updating the code.  Sending them a Jupyter Notebook, or hosting a Jupyter Notebook online, will make it so that they don't have to know how to run the code, your thought process is well-documented alongside the code, and you can push updates to your documented hosted online so that they always have access to the latest version of your work.\n",
    "\n",
    "Jupyter Notebooks are pretty simple to use, but they are incredibly useful.  Let's get started.\n",
    "\n",
    "## Section 2.1: Your first Notebook\n",
    "\n",
    "To get started, launch Jupyter Notebook from Anaconda Navigator or from the command line by typing `jupyter notebook`.  You'll see a screen like this:\n",
    "\n",
    "![alt text](images/jupyter-notebook-1.png)\n",
    "\n",
    "From here, you can create a new Notebook by clicking `New > Python 3`.  Doing so will take you to a screen like this:\n",
    "\n",
    "![alt text](images/jupyter-notebook-2.png)\n",
    "\n",
    "Jupyter Notebooks are comprised of cells.  Cells can be one of two types: code cell or a Markdown cell.  You can tell if a cell is a code cell because it will have an `In [ ]` box next to it.  In these boxes, you can type in Python code and `run` the cell by either clicking the `Run` button at the top of the screen or highlighting the cell and pressing `Shift + Enter`.  For example:"
   ]
  },
  {
   "cell_type": "code",
   "execution_count": 1,
   "metadata": {},
   "outputs": [
    {
     "data": {
      "text/plain": [
       "[0, 1, 2, 3, 4, 5, 6, 7, 8, 9]"
      ]
     },
     "execution_count": 1,
     "metadata": {},
     "output_type": "execute_result"
    }
   ],
   "source": [
    "first_ten = [i for i in range(10)]\n",
    "first_ten"
   ]
  },
  {
   "cell_type": "code",
   "execution_count": 2,
   "metadata": {},
   "outputs": [
    {
     "name": "stdout",
     "output_type": "stream",
     "text": [
      "0 squared is 0\n",
      "1 squared is 1\n",
      "2 squared is 4\n",
      "3 squared is 9\n",
      "4 squared is 16\n",
      "5 squared is 25\n",
      "6 squared is 36\n",
      "7 squared is 49\n",
      "8 squared is 64\n",
      "9 squared is 81\n"
     ]
    }
   ],
   "source": [
    "for num in first_ten:\n",
    "    print(\"{} squared is {}\".format(num, num ** 2))"
   ]
  },
  {
   "cell_type": "markdown",
   "metadata": {},
   "source": [
    "Let's go ahead and create a Markdown cell.  To create a new cell, click `Insert > Insert Cell Below`.  This will create a new code cell beneath wherever the currently highlighted cell.  To change this to a Markdown cell, click the cell, press `Escape` so that the border highlighting it is blue, then press `m` - this will transform the cell from a code cell to a Markdown cell.  You'll be able to tell this is a Markdown cell because there won't be an `In [ ]` to the left of the box.  Click on the box and type some text in there.  \n",
    "\n",
    "Markdown cells support any Markdown syntax.  For example, to make text different size, entering...\n",
    "\n",
    "```\n",
    "# H1\n",
    "## H2\n",
    "### H3\n",
    "#### H4\n",
    "##### H5\n",
    "###### H6\n",
    "```\n",
    "\n",
    "...will produce...\n",
    "\n",
    "# H1\n",
    "## H2\n",
    "### H3\n",
    "#### H4\n",
    "##### H5\n",
    "###### H6\n",
    "\n",
    "Entering... \n",
    "\n",
    "```\n",
    "*Italicized text*\n",
    "**Bolded Text**\n",
    "~~Strikethrough text~~\n",
    "```\n",
    "\n",
    "...will produce...\n",
    "\n",
    "*Italicized text*\n",
    "\n",
    "**Bolded Text**\n",
    "\n",
    "~~Strikethrough text~~\n",
    "\n",
    "See [adam-p's Markdown Cheatsheet](https://github.com/adam-p/markdown-here/wiki/Markdown-Cheatsheet) for more information about Markdown.\n",
    "\n",
    "Let's go ahead and "
   ]
  },
  {
   "cell_type": "markdown",
   "metadata": {},
   "source": [
    "[Previous Section: Introduction](advanced.python.1.ipynb)<br>\n",
    "[Next Section: Pandas](advanced.python.3.ipynb)"
   ]
  }
 ],
 "metadata": {
  "kernelspec": {
   "display_name": "Python 3",
   "language": "python",
   "name": "python3"
  },
  "language_info": {
   "codemirror_mode": {
    "name": "ipython",
    "version": 3
   },
   "file_extension": ".py",
   "mimetype": "text/x-python",
   "name": "python",
   "nbconvert_exporter": "python",
   "pygments_lexer": "ipython3",
   "version": "3.6.5"
  }
 },
 "nbformat": 4,
 "nbformat_minor": 2
}
