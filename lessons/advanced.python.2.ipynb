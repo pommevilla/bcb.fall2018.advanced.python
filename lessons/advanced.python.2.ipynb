{
 "cells": [
  {
   "cell_type": "markdown",
   "metadata": {},
   "source": [
    "# BCBGSO Fall 2018 Advanced Python Workshop\n",
    "\n",
    "## Section 2: Jupyter Notebook\n",
    "\n",
    "Jupyter Notebooks are documents combining computer code and rich text.  This allows you to combine human-readable prose with your code so that you can communicate what your program is doing along with its outputs.  A common example of where Jupyter Notebooks are used are in sharing your research.  When sharing research with your PI or collaborator, you might send them a `.py` file for them to run themselves along with some  email/`.txt` file.  However, they might not know how to run the code, or the `.txt` might be separated, or you might be constantly updating the code.  Sending them a Jupyter Notebook, or hosting a Jupyter Notebook online, will make it so that they don't have to know how to run the code, your thought process is well-documented alongside the code, and you can push updates to your documented hosted online so that they always have access to the latest version of your work.\n",
    "\n",
    "To get started, launch Jupyter Notebook from Anaconda Navigator or from the command line by typing `jupyter notebook`.  You'll see a screen like this:\n",
    "\n"
   ]
  },
  {
   "cell_type": "markdown",
   "metadata": {},
   "source": [
    "[Previous Section: Introduction](advanced.python.1.ipynb)<br>\n",
    "[Next Section: Pandas](advanced.python.3.ipynb)"
   ]
  }
 ],
 "metadata": {
  "kernelspec": {
   "display_name": "Python 3",
   "language": "python",
   "name": "python3"
  },
  "language_info": {
   "codemirror_mode": {
    "name": "ipython",
    "version": 3
   },
   "file_extension": ".py",
   "mimetype": "text/x-python",
   "name": "python",
   "nbconvert_exporter": "python",
   "pygments_lexer": "ipython3",
   "version": "3.6.5"
  }
 },
 "nbformat": 4,
 "nbformat_minor": 2
}
